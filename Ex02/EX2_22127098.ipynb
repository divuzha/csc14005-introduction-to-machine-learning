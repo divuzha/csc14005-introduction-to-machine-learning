{
 "cells": [
  {
   "cell_type": "markdown",
   "metadata": {},
   "source": [
    "# Excercise 2\n",
    "\n",
    "\n",
    "Đinh Vũ Gia Hân - 22127098\n",
    "\n",
    "---"
   ]
  },
  {
   "cell_type": "markdown",
   "metadata": {},
   "source": [
    "# Hoeffding Inequality\n",
    "\n",
    "Experiment:\n",
    "- Flip 1,000 coins and flip each coin independently.\n",
    "- Focus on 3 coin:\n",
    "    - $c_1$ is the first coin flipped.\n",
    "    - $c_{rand}$ is a random coin chosen from the 1,000.\n",
    "    - $c_{min}$ is the which had the minimum frequency of heads (the earlier one).\n",
    "- $v_1$, $v_{rand}$, $v_{min}$ are the fraction of heads obtained for the 3 respective coins out of the 10 tosses.\n",
    "\n",
    "We will run this experiment 100,000 times to get a full distributiom of $v_1$, $v_{rand}$, $v_{min}$"
   ]
  },
  {
   "cell_type": "markdown",
   "metadata": {},
   "source": [
    "## 1.\n",
    "This exercise is referenced from the source [1]. \n",
    "\n",
    "We will apply Hoeffding's Law to solve this problem:\n",
    "$$P(|E_{in} - E_{out}| > \\epsilon) \\leq 2 \\epsilon^{-2 \\epsilon^2 N}$$\n",
    "\n",
    "Because of a small number of samples, random variations can have a large impact, so we will choose a large tolerance ($\\epsilon = 0.3$) to get the meaningful bounds.\n",
    "\n",
    "Each coin flip is an independent trial with probability 0.5. As we have a large number of coins, the error of out of sample will converge to 0.5."
   ]
  },
  {
   "cell_type": "code",
   "execution_count": 1,
   "metadata": {},
   "outputs": [],
   "source": [
    "# import necessary libraries\n",
    "import numpy as np"
   ]
  },
  {
   "cell_type": "code",
   "execution_count": 2,
   "metadata": {},
   "outputs": [],
   "source": [
    "N_COINS = 1000          # number of coins\n",
    "N_FLIPS = 10            # number of flips per coin\n",
    "N_EXPERIMENTS = 100000  # number of experiments to run\n",
    "\n",
    "EPSILON = 0.3           # error tolerance    \n",
    "E_OUT = 0.5             # out-of-sample error\n",
    "hoeffding_bound = 2 * np.exp(-2 * N_FLIPS * EPSILON**2) # Hoeffding bound"
   ]
  },
  {
   "cell_type": "code",
   "execution_count": 3,
   "metadata": {},
   "outputs": [],
   "source": [
    "def run_the_experiment():\n",
    "    \"\"\"\n",
    "    Run the experiment to flip 1000 coins, each coin is flipped 10 times.\n",
    "    Compute the fraction of heads obtained for each coin.\n",
    "\n",
    "    Returns:\n",
    "    --------\n",
    "    np.array: the fraction of heads obtained for each coin\n",
    "    \"\"\"\n",
    "    # flip 1000 coins, each coin is flipped 10 times\n",
    "    flips = np.random.randint(2, size = (N_COINS, N_FLIPS))\n",
    "    \n",
    "    # the first coin flipped\n",
    "    c1 = flips[0]\n",
    "\n",
    "    # a random coin flipped\n",
    "    c_rand = flips[np.random.randint(N_COINS)]\n",
    "\n",
    "    # the coin with the minimum number of heads\n",
    "    heads_count = np.count_nonzero(flips, axis = 1)\n",
    "    c_min = flips[np.argmin(heads_count)]\n",
    "\n",
    "    # compute the fraction of heads obtained for each coin\n",
    "    v1 = np.mean(c1)\n",
    "    v_rand = np.mean(c_rand)\n",
    "    v_min = np.mean(c_min)\n",
    "\n",
    "    return np.array([v1, v_rand, v_min])"
   ]
  },
  {
   "cell_type": "code",
   "execution_count": 4,
   "metadata": {},
   "outputs": [
    {
     "name": "stdout",
     "output_type": "stream",
     "text": [
      "The average value of v_min is: 0.03763599999997672\n"
     ]
    }
   ],
   "source": [
    "# question 1\n",
    "# run the experiment 100000 times\n",
    "v = np.array([run_the_experiment() for _ in range(N_EXPERIMENTS)])\n",
    "\n",
    "# compute the average value of v\n",
    "E_IN = np.mean(v, axis = 0)\n",
    "\n",
    "# print result\n",
    "print('The average value of v_min is:', E_IN[2])"
   ]
  },
  {
   "cell_type": "code",
   "execution_count": 5,
   "metadata": {},
   "outputs": [
    {
     "name": "stdout",
     "output_type": "stream",
     "text": [
      "Is c1 sastisfying the Hoeffding Inequality: True\n",
      "Is c_rand sastisfying the Hoeffding Inequality: True\n",
      "Is c_min sastisfying the Hoeffding Inequality: False\n"
     ]
    }
   ],
   "source": [
    "# question 2\n",
    "p = np.abs(E_IN - E_OUT) > EPSILON\n",
    "\n",
    "print('Is c1 sastisfying the Hoeffding Inequality:', np.mean(p[0]) < hoeffding_bound)\n",
    "print('Is c_rand sastisfying the Hoeffding Inequality:', np.mean(p[1]) < hoeffding_bound)\n",
    "print('Is c_min sastisfying the Hoeffding Inequality:', np.mean(p[2]) < hoeffding_bound)"
   ]
  },
  {
   "cell_type": "markdown",
   "metadata": {},
   "source": [
    "**Question 1**: the result closes to the answer: [b] 0.01\n",
    "\n",
    "**Question 2**: the correct answer is: [d] $c_1 \\text{ and } c_{rand}$"
   ]
  },
  {
   "cell_type": "markdown",
   "metadata": {},
   "source": [
    "# Error and Noise\n",
    "\n",
    "In this part, we have two binary function:\n",
    "- $h$: hypothesis that approximates f\n",
    "- $f$: target function\n",
    "\n",
    "Hypothesis $h$ makes an error with probability $\\mu$ when approximating $f$, so we can infer that:\n",
    "- $h(x) = f(x)$ with probability $1 - \\mu$\n",
    "- $h(x) \\neq f(x)$ with probability $\\mu$\n",
    "\n",
    "\n",
    "A noisy version of f is defined as:\n",
    "\n",
    "$P(y \\mid \\mathbf{x}) = \n",
    "\\begin{cases} \n",
    "      \\lambda & y = f(x) \\\\\n",
    "      1 - \\lambda & y \\neq f(x) \n",
    "\\end{cases}$"
   ]
  },
  {
   "cell_type": "markdown",
   "metadata": {},
   "source": [
    "## 3.\n",
    "\n",
    "The probability of error that h makes in approximating y is depends on two cases:\n",
    "- $h(x) = f(x)$ and $y \\neq f(x)$\n",
    "- $h(x) \\neq f(x)$ and $y = f(x)$\n",
    "\n",
    "Combining both cases, we get the total probability of error as:\n",
    "\n",
    "$$P(error) = (1 - \\mu) (1 - \\lambda) + \\mu \\lambda$$\n",
    "\n",
    "**Question 3**: the correct answer is: [e] $P(error) = (1 - \\mu) * (1 - \\lambda) + \\mu * \\lambda$"
   ]
  },
  {
   "cell_type": "markdown",
   "metadata": {},
   "source": [
    "## 4.\n",
    "From question 4, we have:\n",
    "\n",
    "$\\begin{align}\n",
    "P(\\text{error}) &= (1 - \\mu) (1 - \\lambda) + \\mu \\lambda \\\\\n",
    "&= 1 - \\mu - \\lambda + 2 \\mu \\lambda\n",
    "\\end{align}$\n",
    "\n",
    "Substitute $\\lambda = \\frac{1}{2}$ into (1), we have:\n",
    "\n",
    "$\\begin{align}\n",
    "P(error) &= 1 - \\mu - \\frac{1}{2} + 2 \\mu . \\frac{1}{2} \\\\\n",
    "&= 1 - \\mu - \\frac{1}{2} + \\mu \\\\\n",
    "&= \\frac{1}{2}\n",
    "\\end{align}$\n",
    "\n",
    "We can see that the performance of $h$ is independent of $\\mu$ at $\\lambda = \\frac{1}{2}$.\n",
    "\n",
    "**Question 4**: the correct answer is: [b] 0.5"
   ]
  },
  {
   "cell_type": "markdown",
   "metadata": {},
   "source": [
    "# Linear Regression\n",
    "\n",
    "Experiment:\n",
    "- The input space $X = [-1, 1] \\times [-1, 1]$.\n",
    "- For each experiment, a random line is chosen as the target function $f$. This line is created by picking two random points within $[-1, 1] \\times [-1, 1]$ and using a line passes through them. The line divides the plane into two regoins: point on one side are labeled +1, and those on the other side are labeled -1.\n",
    "- Generate a 2-dimensional data set $D$. Each input $x_n$ is a randomly chosen point in X, and the target function f is evaluated on each $x_n$ to assign an output label $y_n$ based on which side of the line $x_n$ falls."
   ]
  },
  {
   "cell_type": "code",
   "execution_count": 6,
   "metadata": {},
   "outputs": [],
   "source": [
    "# import necessary libraries\n",
    "import matplotlib.pyplot as plt"
   ]
  },
  {
   "cell_type": "code",
   "execution_count": 7,
   "metadata": {
    "collapsed": true
   },
   "outputs": [],
   "source": [
    "def generate_target_w():\n",
    "    \"\"\"\n",
    "    Generates target_w from two random, uniformly distributed points in [-1, 1] x [-1, 1].\n",
    "    \n",
    "    Returns\n",
    "    -------\n",
    "    target_w : numpy array, shape (3, 1) \n",
    "        The vector of parameters of f.\n",
    "    p1 : numpy array, shape (2, 1)\n",
    "        The first point.\n",
    "    p2 : numpy array, shape (2, 1)\n",
    "        The second point.\n",
    "    \"\"\"\n",
    "    # Generate two points from a uniform distribution over [-1, 1]x[-1, 1]\n",
    "    p1 = np.random.uniform(-1, 1, 2)\n",
    "    p2 = np.random.uniform(-1, 1, 2)\n",
    "\n",
    "    # Compute the target W from these two points\n",
    "    target_w = np.array([p1[1] * p2[0] - p1[0] * p2[1], p2[1] - p1[1], p1[0] - p2[0]]).reshape((-1, 1))\n",
    "    \n",
    "    return target_w, p1, p2\n",
    "\n",
    "def generate_data_1(N, target_w):\n",
    "    \"\"\"\n",
    "    Generates a data set by generating random inputs and then using target_w to generate the \n",
    "    corresponding outputs.\n",
    "    \n",
    "    Parameters\n",
    "    ----------\n",
    "    N : int\n",
    "        The number of examples.\n",
    "    target_w : numpy array, shape (3, 1) \n",
    "        The vector of parameters of f.\n",
    "    \n",
    "    Returns\n",
    "    -------\n",
    "    X : numpy array, shape (N, 3)\n",
    "        The matrix of input vectors (each row corresponds to an input vector); the first column of \n",
    "        this matrix is all ones.\n",
    "    y : numpy array, shape (N, 1)\n",
    "        The vector of outputs.        \n",
    "    \"\"\"\n",
    "    X = np.random.uniform(-1, 1, (N, 2))\n",
    "    X = np.hstack((np.ones((N, 1)), X)) # Add 'ones' column\n",
    "    y = np.sign(np.dot(X, target_w))\n",
    "    \n",
    "    return X, y"
   ]
  },
  {
   "cell_type": "code",
   "execution_count": 8,
   "metadata": {},
   "outputs": [],
   "source": [
    "def train_lireg(X, y):\n",
    "    \"\"\"\n",
    "    Trains a linear regression model on the given data.\n",
    "\n",
    "    Parameters\n",
    "    ----------\n",
    "    X : numpy array, shape (N, d)\n",
    "        The matrix of input vectors (each row corresponds to an input vector); the first column of \n",
    "        this matrix is all ones.\n",
    "    y : numpy array, shape (N, 1)\n",
    "        The vector of outputs.\n",
    "    \n",
    "    Returns\n",
    "    -------\n",
    "    w : numpy array, shape (d, 1)\n",
    "        The vector of parameters of the trained model.\n",
    "    \"\"\"\n",
    "    X_pinv = np.linalg.pinv(X.T @ X) @ X.T\n",
    "    w = X_pinv @ y\n",
    "\n",
    "    return w\n",
    "\n",
    "def compute_linreg_output(X, w):\n",
    "    \"\"\"\n",
    "    Computes the output of a linear regression model.\n",
    "\n",
    "    Parameters\n",
    "    ----------\n",
    "    X : numpy array, shape (N, d)\n",
    "        The matrix of input vectors (each row corresponds to an input vector); the first column of \n",
    "        this matrix is all ones.\n",
    "    w : numpy array, shape (d, 1)\n",
    "        The vector of parameters of the model.\n",
    "    \n",
    "    Returns\n",
    "    -------\n",
    "    y_pred : numpy array, shape (N, 1)\n",
    "        The predicted outputs.\n",
    "    \"\"\"\n",
    "    y_pred = np.sign(X @ w)\n",
    "\n",
    "    return y_pred"
   ]
  },
  {
   "cell_type": "code",
   "execution_count": 9,
   "metadata": {},
   "outputs": [
    {
     "data": {
      "image/png": "[encoded data removed]",
      "text/plain": [
       "<Figure size 640x480 with 1 Axes>"
      ]
     },
     "metadata": {},
     "output_type": "display_data"
    }
   ],
   "source": [
    "N = 100\n",
    "\n",
    "# generate target function and data\n",
    "w, A, B = generate_target_w()\n",
    "X, y = generate_data_1(N, w)\n",
    "\n",
    "# plot data points\n",
    "plt.plot(X[:, 1][y.flatten() == 1], X[:, 2][y.flatten() == 1], 'ro')\n",
    "plt.plot(X[:, 1][y.flatten() == -1], X[:, 2][y.flatten() == -1], 'bo')\n",
    "\n",
    "# plot target function (f(x)) line\n",
    "x_vals = np.array([-1, 1])\n",
    "y_vals_target = -(w[0] + w[1] * x_vals) / w[2]\n",
    "plt.plot(x_vals, y_vals_target, color = 'skyblue', label = 'Target f(x)')\n",
    "\n",
    "# plot points A and B\n",
    "plt.plot(A[0], A[1], 'go')\n",
    "plt.plot(B[0], B[1], 'go')\n",
    "\n",
    "# train linear regression and get hypothesis line\n",
    "w_lr = train_lireg(X, y)\n",
    "y_pred = compute_linreg_output(X, w_lr)\n",
    "\n",
    "# plot hypothesis function (g(x)) line\n",
    "y_vals_hypothesis = -(w_lr[0] + w_lr[1] * x_vals) / w_lr[2]\n",
    "plt.plot(x_vals, y_vals_hypothesis, color = 'pink', label = 'g(x)')\n",
    "\n",
    "# set plot limits and show legend\n",
    "plt.ylim(-1, 1)\n",
    "plt.xlim(-1, 1)\n",
    "plt.legend()\n",
    "plt.title(\"Linear Regression Classification\")\n",
    "plt.show()"
   ]
  },
  {
   "cell_type": "markdown",
   "metadata": {},
   "source": [
    "## 5 - 6.\n",
    "This exercise is referenced from the source [2]. "
   ]
  },
  {
   "cell_type": "code",
   "execution_count": 10,
   "metadata": {},
   "outputs": [
    {
     "name": "stdout",
     "output_type": "stream",
     "text": [
      "Average E_IN: 0.038350000000000016\n",
      "Average E_OUT: 0.04848000000000005\n"
     ]
    }
   ],
   "source": [
    "N_Q5 = 100\n",
    "N_RUNS_Q5 = 1000\n",
    "E_IN_TOTAL_Q5 = 0\n",
    "E_OUT_TOTAL_Q5 = 0\n",
    "\n",
    "for run in range(N_RUNS_Q5):\n",
    "    # generate target function and training dataset\n",
    "    w, A, B = generate_target_w()\n",
    "    X_train, y_train = generate_data_1(N, w)\n",
    "\n",
    "    # train linear regression and compute E_IN\n",
    "    w_lr = train_lireg(X_train, y_train)\n",
    "    y_pred_in = compute_linreg_output(X_train, w_lr)\n",
    "    E_IN = np.mean(y_train != y_pred_in)\n",
    "    \n",
    "    # generate test dataset and compute E_OUT\n",
    "    X_test, y_test = generate_data_1(N, w)\n",
    "    y_pred_out = compute_linreg_output(X_test, w_lr)\n",
    "    E_OUT = np.mean(y_test != y_pred_out)\n",
    "\n",
    "    E_IN_TOTAL_Q5 += E_IN\n",
    "    E_OUT_TOTAL_Q5 += E_OUT\n",
    "\n",
    "print(f\"Average E_IN: {E_IN_TOTAL_Q5 / N_RUNS_Q5}\")\n",
    "print(f\"Average E_OUT: {E_OUT_TOTAL_Q5 / N_RUNS_Q5}\")"
   ]
  },
  {
   "cell_type": "markdown",
   "metadata": {},
   "source": [
    "**Question 5**: the result closes to the answer: [c] 0.01\n",
    "\n",
    "**Question 6**: the result closes to the answer: [c] 0.01"
   ]
  },
  {
   "cell_type": "markdown",
   "metadata": {},
   "source": [
    "## 7.\n",
    "\n",
    "In this question, after finding the weights using Linear Regression, we will run PLA until it converges to find a final vector of weights that completely separates all the in-sample points."
   ]
  },
  {
   "cell_type": "code",
   "execution_count": 11,
   "metadata": {
    "collapsed": true
   },
   "outputs": [],
   "source": [
    "def run_PLA(X, y, w):\n",
    "    \"\"\"\n",
    "    Runs PLA.\n",
    "    \n",
    "    Parameters\n",
    "    ----------\n",
    "    X : numpy array, shape (N, 3)\n",
    "        The matrix of input vectors (each row corresponds to an input vector); the first column of \n",
    "        this matrix is all ones.\n",
    "    y : numpy array, shape (N, 1)\n",
    "        The vector of outputs.\n",
    "    w : numpy array, shape (3, 1)\n",
    "        The vector of parameters of the initial model.\n",
    "    \n",
    "    Returns\n",
    "    -------\n",
    "    num_iterations : int\n",
    "        The number of iterations PLA takes to converge.\n",
    "    \"\"\"\n",
    "    iteration = 0       # number of iterations\n",
    "    w_tmp = np.copy(w)    # copy of the initial model\n",
    "    \n",
    "    while True:\n",
    "        misclassified = [] # List of misclassified points\n",
    "\n",
    "        for i in range(X.shape[0]):\n",
    "            # Check if the point is misclassified\n",
    "            if np.sign(np.dot(X[i], w)) != y[i]:\n",
    "                misclassified.append(i)\n",
    "                w += y[i] * X[i].reshape(-1, 1) # Update w\n",
    "                iteration += 1\n",
    "\n",
    "        # If no point is misclassified, stop the loop\n",
    "        if len(misclassified) == 0:\n",
    "            break\n",
    "    \n",
    "    return iteration"
   ]
  },
  {
   "cell_type": "code",
   "execution_count": 12,
   "metadata": {
    "collapsed": true
   },
   "outputs": [
    {
     "name": "stdout",
     "output_type": "stream",
     "text": [
      "Average number of iterations: 4.992\n"
     ]
    }
   ],
   "source": [
    "N_Q7 = 10\n",
    "N_RUNS_Q7 = 1000\n",
    "N_ITERATIONS_TOTAL_Q7 = 0\n",
    "\n",
    "for run in range(N_RUNS_Q7):\n",
    "    # generate target function and data\n",
    "    w, A, B = generate_target_w()\n",
    "    X, y = generate_data_1(N_Q7, w)\n",
    "\n",
    "    # train linear regression\n",
    "    w_lr = train_lireg(X, y)\n",
    "\n",
    "    # run PLA\n",
    "    num_iterations = run_PLA(X, y, w_lr)\n",
    "    \n",
    "    N_ITERATIONS_TOTAL_Q7 += num_iterations\n",
    "\n",
    "print(f\"Average number of iterations: {N_ITERATIONS_TOTAL_Q7 / N_RUNS_Q7}\")"
   ]
  },
  {
   "cell_type": "markdown",
   "metadata": {},
   "source": [
    "**Question 7**: the result closes to the answer: [a] 1"
   ]
  },
  {
   "cell_type": "markdown",
   "metadata": {},
   "source": [
    "# Nonlinear Transformation\n",
    "\n",
    "This part is referenced from the source [3].\n",
    "\n",
    "In this part, we will use a different target function:\n",
    "$$f(x_1, x_2) = \\text{sign}({x_1}^2 + {x_2}^2 - 0.6)$$\n",
    "\n",
    "Experiment:\n",
    "- Generate a training set of N = 1,000 points on $X = [-1, 1] \\times [-1, 1]$\n",
    "- Generate simulated noise by flipping the sign of the ouput in a randomly selected 10% subset of the generated training set."
   ]
  },
  {
   "cell_type": "code",
   "execution_count": 13,
   "metadata": {},
   "outputs": [],
   "source": [
    "def generate_data_2(N):\n",
    "    \"\"\"\n",
    "    Generates a data set by generating random inputs and then using new target function to generate the \n",
    "    corresponding outputs.\n",
    "    \n",
    "    Parameters\n",
    "    ----------\n",
    "    N : int\n",
    "        The number of examples.\n",
    "    \n",
    "    Returns\n",
    "    -------\n",
    "    X : numpy array, shape (N, 3)\n",
    "        The matrix of input vectors (each row corresponds to an input vector); the first column of \n",
    "        this matrix is all ones.\n",
    "    y : numpy array, shape (N, 1)\n",
    "        The vector of outputs.        \n",
    "    \"\"\"\n",
    "    X = np.random.uniform(-1, 1, (N, 2))\n",
    "    X = np.hstack((np.ones((N, 1)), X)) # Add 'ones' column\n",
    "    y = np.sign(X[:,1] * X[:,1] + X[:,2] * X[:,2] - 0.6)\n",
    "    \n",
    "    return X, y"
   ]
  },
  {
   "cell_type": "code",
   "execution_count": 14,
   "metadata": {},
   "outputs": [
    {
     "name": "stdout",
     "output_type": "stream",
     "text": [
      "E_IN: 0.534\n"
     ]
    },
    {
     "data": {
      "image/png": "[encoded data removed]",
      "text/plain": [
       "<Figure size 640x480 with 1 Axes>"
      ]
     },
     "metadata": {},
     "output_type": "display_data"
    }
   ],
   "source": [
    "N = 1000\n",
    "\n",
    "# generate training data\n",
    "X, y = generate_data_2(N)\n",
    "\n",
    "# flip 10% of the labels\n",
    "indices = list(range(N))\n",
    "np.random.shuffle(indices)\n",
    "random_indices = indices[:(N // 10)] \n",
    "y[random_indices] *= -1\n",
    "\n",
    "# train linear regression \n",
    "w_lr = train_lireg(X, y)\n",
    "y_pred = compute_linreg_output(X, w_lr)\n",
    "E_IN = np.mean(y != y_pred)\n",
    "print(f\"E_IN: {E_IN}\")\n",
    "\n",
    "# set limits for the plot and plot the data points\n",
    "plt.plot(X[:,1][y.flatten() == 1], X[:,2][y.flatten() == 1], 'ro')\n",
    "plt.plot(X[:,1][y.flatten() == -1], X[:,2][y.flatten() == -1], 'bo')\n",
    "plt.ylim(-1, 1)\n",
    "plt.xlim(-1, 1)\n",
    "plt.show()"
   ]
  },
  {
   "cell_type": "markdown",
   "metadata": {},
   "source": [
    "## 8."
   ]
  },
  {
   "cell_type": "code",
   "execution_count": 15,
   "metadata": {},
   "outputs": [
    {
     "name": "stdout",
     "output_type": "stream",
     "text": [
      "Average E_IN: 0.5069359999999997\n"
     ]
    }
   ],
   "source": [
    "N_Q8 = 1000\n",
    "N_RUNS_Q8 = 1000\n",
    "E_IN_TOTAL_Q8 = 0\n",
    "\n",
    "for run in range(N_RUNS_Q8):\n",
    "    # generate training data\n",
    "    X, y = generate_data_2(N_Q8)\n",
    "\n",
    "    # flip 10% of the labels\n",
    "    indices = list(range(N_Q8))\n",
    "    np.random.shuffle(indices)\n",
    "    random_indices = indices[:(N_Q8 // 10)] \n",
    "    y[random_indices] *= -1\n",
    "\n",
    "    # train linear regression \n",
    "    w_lr = train_lireg(X, y)\n",
    "    y_pred = compute_linreg_output(X, w_lr)\n",
    "    E_IN = np.mean(y != y_pred)\n",
    "    \n",
    "    E_IN_TOTAL_Q8 += E_IN\n",
    "\n",
    "print(f\"Average E_IN: {E_IN_TOTAL_Q8 / N_RUNS_Q8}\")"
   ]
  },
  {
   "cell_type": "markdown",
   "metadata": {},
   "source": [
    "**Question 8**: the result closes to the answer: [d] 0.5"
   ]
  },
  {
   "cell_type": "markdown",
   "metadata": {},
   "source": [
    "## 9.\n",
    "\n",
    "Transform N = 1,000 training data generated above into the nonlinear feature vector:\n",
    "$$(1, \\text{ } x_1,\\text{ }  x_2, \\text{ } x_1 x_2, \\text{ } {x_1}^2, \\text{ } {x_2}^2)$$"
   ]
  },
  {
   "cell_type": "code",
   "execution_count": 18,
   "metadata": {},
   "outputs": [
    {
     "name": "stdout",
     "output_type": "stream",
     "text": [
      "Difference between Linear Regression and a =  0.027\n",
      "Difference between Linear Regression and b =  0.349\n",
      "Difference between Linear Regression and c =  0.346\n",
      "Difference between Linear Regression and d =  0.35\n",
      "Difference between Linear Regression and e =  0.429\n",
      "The weight vector of my hypothesis is: w_lr =  [-0.98919359  0.04227063  0.00627611  0.02099367  1.62408609  1.46084981]\n",
      "Sanity check: E_in =  0.119\n"
     ]
    }
   ],
   "source": [
    "# new feature matrix\n",
    "X_trans = np.transpose(np.array([np.ones(N), X[:,1], X[:,2], X[:,1] * X[:,2], X[:,1] * X[:,1], X[:,2] * X[:,2]]))\n",
    "\n",
    "# linear regression on the new \"feature matrix\"\n",
    "w_lr_trans = train_lireg(X_trans, y)\n",
    "\n",
    "# the hypotheses that are given\n",
    "w_a = np.array([-1, -0.05, 0.08, 0.13, 1.5, 1.5])\n",
    "w_b = np.array([-1, -0.05, 0.08, 0.13, 1.5, 15])\n",
    "w_c = np.array([-1, -0.05, 0.08, 0.13, 15, 1.5])\n",
    "w_d = np.array([-1, -1.5, 0.08, 0.13, 0.05, 0.05])\n",
    "w_e = np.array([-1, -0.05, 0.08, 1.5, 0.15, 0.15])\n",
    "\n",
    "# compute classifications made by each hypothesis\n",
    "y_lr_trans = compute_linreg_output(X_trans, w_lr_trans)\n",
    "y_a = compute_linreg_output(X_trans, w_a)\n",
    "y_b = compute_linreg_output(X_trans, w_b)\n",
    "y_c = compute_linreg_output(X_trans, w_c)\n",
    "y_d = compute_linreg_output(X_trans, w_d)\n",
    "y_e = compute_linreg_output(X_trans, w_e)\n",
    "\n",
    "difference_lr_a = sum(y_a != y_lr_trans) / N                                                                    \n",
    "difference_lr_b = sum(y_b != y_lr_trans) / N\n",
    "difference_lr_c = sum(y_c != y_lr_trans) / N\n",
    "difference_lr_d = sum(y_d != y_lr_trans) / N\n",
    "difference_lr_e = sum(y_e != y_lr_trans) / N\n",
    "\n",
    "print(\"Difference between Linear Regression and a = \", difference_lr_a)\n",
    "print(\"Difference between Linear Regression and b = \", difference_lr_b)\n",
    "print(\"Difference between Linear Regression and c = \", difference_lr_c)\n",
    "print(\"Difference between Linear Regression and d = \", difference_lr_d)\n",
    "print(\"Difference between Linear Regression and e = \", difference_lr_e)\n",
    "print(\"The weight vector of my hypothesis is: w_lr = \", w_lr_trans)\n",
    "\n",
    "# compare predictions made by w_lr_trans with those made by targer function\n",
    "print(\"Sanity check: E_in = \", sum(y != y_lr_trans) / N)"
   ]
  },
  {
   "cell_type": "markdown",
   "metadata": {},
   "source": [
    "**Question 9**: the closest result to the answer: [a] $g(x_1, x_2) = \\text{sign} (-1 - 0.05 x_1 + 0.08 x_2 + 0.13 x_1 x_2 + 1.5 {x_1}^2 + 1.5 {x_2}^2)$"
   ]
  },
  {
   "cell_type": "markdown",
   "metadata": {},
   "source": [
    "# 10."
   ]
  },
  {
   "cell_type": "code",
   "execution_count": 17,
   "metadata": {},
   "outputs": [
    {
     "name": "stdout",
     "output_type": "stream",
     "text": [
      "Average E_OUT: 0.12963900000000006\n"
     ]
    }
   ],
   "source": [
    "N_RUNS_Q10 = 1000\n",
    "N_Q10 = 1000\n",
    "E_OUT_TOTAL_Q10 = 0\n",
    "\n",
    "for run in range(N_RUNS_Q10):\n",
    "    # generate training data\n",
    "    X, y = generate_data_2(N_Q10)\n",
    "\n",
    "    # flip 10% of the labels\n",
    "    indices = list(range(N_Q10))\n",
    "    np.random.shuffle(indices)\n",
    "    random_indices = indices[:(N_Q10 // 10)] \n",
    "    y[random_indices] *= -1\n",
    "\n",
    "    # new feature matrix\n",
    "    X_trans = np.transpose(np.array([np.ones(N_Q10), X[:,1], X[:,2], X[:,1] * X[:,2], X[:,1] * X[:,1], X[:,2] * X[:,2]]))\n",
    "\n",
    "    # train linear regression\n",
    "    y_pred = compute_linreg_output(X_trans, w_lr_trans)\n",
    "    E_OUT = np.mean(y != y_pred)\n",
    "\n",
    "    E_OUT_TOTAL_Q10 += E_OUT\n",
    "\n",
    "print(f\"Average E_OUT: {E_OUT_TOTAL_Q10 / N_RUNS_Q10}\")"
   ]
  },
  {
   "cell_type": "markdown",
   "metadata": {},
   "source": [
    "**Question 10**: the result closes to the answer: [b] 0.1"
   ]
  },
  {
   "cell_type": "markdown",
   "metadata": {},
   "source": [
    "## References\n",
    "\n",
    "[1]: \"Hoeffding's Inequality\". <i>notebook.community</i>, https://notebook.community/akhileshh/lfd-caltech/homework02. (Accessed date: 26/10/2024)\n",
    "\n",
    "[2]: homefish. \"edX Learning From Data 2017\" <i>Github</i>, 2017, https://github.com/homefish/edX_Learning_From_Data_2017/blob/master/homework_2/homework_2_problem_5_6_linear_regression.ipynb. (Accessed date: 28/10/2024)\n",
    "\n",
    "[3]: homefish. \"edX Learning From Data 2017\" <i>Github</i>, 2017, https://github.com/homefish/edX_Learning_From_Data_2017/blob/master/homework_2/homework_2_problem_8_9_10_Nonlinear_Transformation.ipynb. (Accessed date: 28/10/2024)"
   ]
  }
 ],
 "metadata": {
  "kernelspec": {
   "display_name": "ml-env",
   "language": "python",
   "name": "python3"
  },
  "language_info": {
   "codemirror_mode": {
    "name": "ipython",
    "version": 3
   },
   "file_extension": ".py",
   "mimetype": "text/x-python",
   "name": "python",
   "nbconvert_exporter": "python",
   "pygments_lexer": "ipython3",
   "version": "3.11.7"
  }
 },
 "nbformat": 4,
 "nbformat_minor": 1
}
